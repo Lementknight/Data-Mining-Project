{
 "cells": [
  {
   "cell_type": "markdown",
   "metadata": {},
   "source": [
    "Using VADER (Valence Aware Dictionary and sEntiment Reasoner) we will identify which sports generate the most positive or negative discussions from the Web Scrapped Data On BlueSky"
   ]
  },
  {
   "cell_type": "code",
   "execution_count": 1,
   "metadata": {},
   "outputs": [],
   "source": [
    "import pandas as pd\n",
    "from nltk.sentiment import SentimentIntensityAnalyzer\n",
    "from nltk import download\n",
    "import os"
   ]
  },
  {
   "cell_type": "code",
   "execution_count": 2,
   "metadata": {},
   "outputs": [
    {
     "name": "stderr",
     "output_type": "stream",
     "text": [
      "[nltk_data] Downloading package vader_lexicon to\n",
      "[nltk_data]     C:\\Users\\Jair4\\AppData\\Roaming\\nltk_data...\n",
      "[nltk_data]   Package vader_lexicon is already up-to-date!\n"
     ]
    }
   ],
   "source": [
    "# Download the VADER lexicon required for SentimentIntensityAnalyzer\n",
    "download('vader_lexicon')\n",
    "\n",
    "# Initialize VADER\n",
    "sia = SentimentIntensityAnalyzer()"
   ]
  },
  {
   "cell_type": "code",
   "execution_count": 3,
   "metadata": {},
   "outputs": [],
   "source": [
    "# Define folder paths\n",
    "input_folder = \"DataMiningProcessing\"  \n",
    "output_folder = \"Processed\"\n",
    "\n",
    "# if output folder doesn't exist, create one\n",
    "os.makedirs(output_folder, exist_ok=True)"
   ]
  },
  {
   "cell_type": "code",
   "execution_count": 4,
   "metadata": {},
   "outputs": [],
   "source": [
    "def process_csv(file_path, output_path):\n",
    "\n",
    "    # Load the file path\n",
    "    pf  = pd.read_csv(file_path)\n",
    "\n",
    "    # sia.polarity_scores creates a dictorary for the values pos, neg, neu, and compound \n",
    "    #   ex: {'neg': 0.0, 'neu': 0.182, 'pos': 0.818, 'compound': 0.6696}\n",
    "\n",
    "    # Saving and Labeling the Compound Value\n",
    "    # Apply Setiment Score to each string of CSV Column\n",
    "    pf['Sentiment_Score'] = pf['content'].apply(lambda x: sia.polarity_scores(str(x))['compound'])\n",
    "    pf['Sentiment_Label'] = pf['Sentiment_Score'].apply(\n",
    "        lambda score: 'Positive' if score > 0.05 else 'Negative' if score < -0.05 else 'Neutral'\n",
    "    )\n",
    "\n",
    "    # Save the new csv file with their scores\n",
    "    pf.to_csv(output_path, index=False)\n",
    "    print(f\"Processed and saved: {output_path}\")"
   ]
  },
  {
   "cell_type": "code",
   "execution_count": 5,
   "metadata": {},
   "outputs": [
    {
     "name": "stdout",
     "output_type": "stream",
     "text": [
      "Processing file: bluesky_posts_Archery.csv\n",
      "Processed and saved: Processed\\Archery.csv\n",
      "Processing file: bluesky_posts_Artistic Gymnastics.csv\n",
      "Processed and saved: Processed\\Artistic Gymnastics.csv\n",
      "Processing file: bluesky_posts_Artistic Swimming.csv\n",
      "Processed and saved: Processed\\Artistic Swimming.csv\n",
      "Processing file: bluesky_posts_Athletics.csv\n",
      "Processed and saved: Processed\\Athletics.csv\n",
      "Processing file: bluesky_posts_Badminton.csv\n",
      "Processed and saved: Processed\\Badminton.csv\n",
      "Processing file: bluesky_posts_Basketball 3x3.csv\n",
      "Processed and saved: Processed\\Basketball 3x3.csv\n",
      "Processing file: bluesky_posts_Basketball.csv\n",
      "Processed and saved: Processed\\Basketball.csv\n",
      "Processing file: bluesky_posts_Beach Volleyball.csv\n",
      "Processed and saved: Processed\\Beach Volleyball.csv\n",
      "Processing file: bluesky_posts_Boxing.csv\n",
      "Processed and saved: Processed\\Boxing.csv\n",
      "Processing file: bluesky_posts_Breaking.csv\n",
      "Processed and saved: Processed\\Breaking.csv\n",
      "Processing file: bluesky_posts_Canoe Slalom.csv\n",
      "Processed and saved: Processed\\Canoe Slalom.csv\n",
      "Processing file: bluesky_posts_Canoe Sprint.csv\n",
      "Processed and saved: Processed\\Canoe Sprint.csv\n",
      "Processing file: bluesky_posts_Cycling BMX Freestyle.csv\n",
      "Processed and saved: Processed\\Cycling BMX Freestyle.csv\n",
      "Processing file: bluesky_posts_Cycling BMX Racing.csv\n",
      "Processed and saved: Processed\\Cycling BMX Racing.csv\n",
      "Processing file: bluesky_posts_Cycling Road.csv\n",
      "Processed and saved: Processed\\Cycling Road.csv\n",
      "Processing file: bluesky_posts_Cycling Track.csv\n",
      "Processed and saved: Processed\\Cycling Track.csv\n",
      "Processing file: bluesky_posts_Diving.csv\n",
      "Processed and saved: Processed\\Diving.csv\n",
      "Processing file: bluesky_posts_Equestrian.csv\n",
      "Processed and saved: Processed\\Equestrian.csv\n",
      "Processing file: bluesky_posts_Fencing.csv\n",
      "Processed and saved: Processed\\Fencing.csv\n",
      "Processing file: bluesky_posts_Football.csv\n",
      "Processed and saved: Processed\\Football.csv\n",
      "Processing file: bluesky_posts_Golf.csv\n",
      "Processed and saved: Processed\\Golf.csv\n",
      "Processing file: bluesky_posts_Handball.csv\n",
      "Processed and saved: Processed\\Handball.csv\n",
      "Processing file: bluesky_posts_Hockey.csv\n",
      "Processed and saved: Processed\\Hockey.csv\n",
      "Processing file: bluesky_posts_Judo.csv\n",
      "Processed and saved: Processed\\Judo.csv\n",
      "Processing file: bluesky_posts_Marathon Swimming.csv\n",
      "Processed and saved: Processed\\Marathon Swimming.csv\n",
      "Processing file: bluesky_posts_Modern Pentathlon.csv\n",
      "Processed and saved: Processed\\Modern Pentathlon.csv\n",
      "Processing file: bluesky_posts_Mountain Bike.csv\n",
      "Processed and saved: Processed\\Mountain Bike.csv\n",
      "Processing file: bluesky_posts_Rhythmic Gymnastics.csv\n",
      "Processed and saved: Processed\\Rhythmic Gymnastics.csv\n",
      "Processing file: bluesky_posts_Rowing.csv\n",
      "Processed and saved: Processed\\Rowing.csv\n",
      "Processing file: bluesky_posts_Rugby Sevens.csv\n",
      "Processed and saved: Processed\\Rugby Sevens.csv\n",
      "Processing file: Sailing.csv\n",
      "Processed and saved: Processed\\Sailing.csv\n",
      "Processing file: Shooting.csv\n",
      "Processed and saved: Processed\\Shooting.csv\n",
      "Processing file: Skateboarding.csv\n",
      "Processed and saved: Processed\\Skateboarding.csv\n",
      "Processing file: Sport Climbing.csv\n",
      "Processed and saved: Processed\\Sport Climbing.csv\n",
      "Processing file: Surfing.csv\n",
      "Processed and saved: Processed\\Surfing.csv\n",
      "Processing file: Swimming.csv\n",
      "Processed and saved: Processed\\Swimming.csv\n",
      "Processing file: Table Tennis.csv\n",
      "Processed and saved: Processed\\Table Tennis.csv\n",
      "Processing file: Taekwondo.csv\n",
      "Processed and saved: Processed\\Taekwondo.csv\n",
      "Processing file: Tennis.csv\n",
      "Processed and saved: Processed\\Tennis.csv\n",
      "Processing file: Trampoline.csv\n",
      "Processed and saved: Processed\\Trampoline.csv\n",
      "Processing file: Triathlon.csv\n",
      "Processed and saved: Processed\\Triathlon.csv\n",
      "Processing file: Volleyball.csv\n",
      "Processed and saved: Processed\\Volleyball.csv\n",
      "Processing file: Water Polo.csv\n",
      "Processed and saved: Processed\\Water Polo.csv\n",
      "Processing file: Weightlifting.csv\n",
      "Processed and saved: Processed\\Weightlifting.csv\n",
      "Processing file: Wrestling.csv\n",
      "Processed and saved: Processed\\Wrestling.csv\n"
     ]
    }
   ],
   "source": [
    "# Perform sia.process_csv on all CSV files in the DataMiningProcess folder\n",
    "for file_name in os.listdir(input_folder):\n",
    "    if file_name.endswith('.csv'):  # Check if the file is a CSV\n",
    "        input_path = os.path.join(input_folder, file_name)\n",
    "        output_path = os.path.join(output_folder, file_name)\n",
    "\n",
    "        # get rid of the 'bluesky_posts_' to get only the sports name\n",
    "        # later to load into the result \n",
    "        output_file_name = file_name.replace(\"bluesky_posts_\", \"\")\n",
    "        output_path = os.path.join(output_folder, output_file_name)\n",
    "\n",
    "        print(f\"Processing file: {file_name}\")\n",
    "        process_csv(input_path, output_path)"
   ]
  },
  {
   "cell_type": "code",
   "execution_count": null,
   "metadata": {},
   "outputs": [
    {
     "name": "stdout",
     "output_type": "stream",
     "text": [
      "Sentiment analysis results saved to c:\\Users\\Jair4\\Desktop\\Data_Mining_Project\\Data-Processing\\sports_sentiment_matrix.xlsx\n"
     ]
    }
   ],
   "source": [
    "import pandas as pd\n",
    "import os\n",
    "\n",
    "#Store the Results\n",
    "results = []\n",
    "processed_folder = \"Processed\"\n",
    "\n",
    "# Define the output folder, one directory before 'Processed'\n",
    "output_folder = os.path.abspath(os.path.join(processed_folder, \"..\"))\n",
    "output_file = os.path.join(output_folder, \"sports_sentiment_matrix.xlsx\") \n",
    "\n",
    "# Loop through the processed folder and analyze the average sentiment scores\n",
    "for file_name in os.listdir(processed_folder):\n",
    "    if file_name.endswith('.csv'):\n",
    "        file_path = os.path.join(processed_folder, file_name)\n",
    "        pf = pd.read_csv(file_path)\n",
    "        \n",
    "        # Calculate the average sentiment score on sentiment column\n",
    "        avg_sentiment_score = pf['Sentiment_Score'].mean()A\n",
    "        \n",
    "        # Determine the sentiment score for the avergage\n",
    "        avg_sentiment_label = \"Positive\" if avg_sentiment_score > 0.05 else \"Negative\" if avg_sentiment_score < -0.05 else \"Neutral\"\n",
    "        \n",
    "        # Extract the sport name from the file name\n",
    "        sport_name = file_name.replace(\".csv\", \"\")\n",
    "        \n",
    "        # Append the data to the list\n",
    "        results.append({\n",
    "            'Sport': sport_name,\n",
    "            'Average Sentiment Score': avg_sentiment_score,\n",
    "            'Sentiment Label': avg_sentiment_label\n",
    "        })\n",
    "\n",
    "# Ensure the output folder exists (this will point to one directory above 'Processed')\n",
    "os.makedirs(output_folder, exist_ok=True)\n",
    "\n",
    "\n",
    "# Convert the list of data into a pandas DataFrame\n",
    "# Save the DataFrame to an Excel file in the parent folder\n",
    "sentiment_pf = pd.DataFrame(results)\n",
    "sentiment_pf.to_excel(output_file, index=False, engine='openpyxl')\n",
    "\n",
    "print(f\"Sentiment analysis results saved to {output_file}\")"
   ]
  }
 ],
 "metadata": {
  "kernelspec": {
   "display_name": "Python 3",
   "language": "python",
   "name": "python3"
  },
  "language_info": {
   "codemirror_mode": {
    "name": "ipython",
    "version": 3
   },
   "file_extension": ".py",
   "mimetype": "text/x-python",
   "name": "python",
   "nbconvert_exporter": "python",
   "pygments_lexer": "ipython3",
   "version": "3.12.0"
  }
 },
 "nbformat": 4,
 "nbformat_minor": 2
}
